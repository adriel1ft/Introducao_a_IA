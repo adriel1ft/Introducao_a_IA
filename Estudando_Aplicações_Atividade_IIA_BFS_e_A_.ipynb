{
  "nbformat": 4,
  "nbformat_minor": 0,
  "metadata": {
    "colab": {
      "provenance": []
    },
    "kernelspec": {
      "name": "python3",
      "display_name": "Python 3"
    },
    "language_info": {
      "name": "python"
    }
  },
  "cells": [
    {
      "cell_type": "markdown",
      "source": [
        "###bibliotecas"
      ],
      "metadata": {
        "id": "hMxdI9hyW8TR"
      }
    },
    {
      "cell_type": "code",
      "source": [
        "import numpy as np\n",
        "import matplotlib.pyplot as plt\n",
        "from queue import PriorityQueue\n",
        "import heapq"
      ],
      "metadata": {
        "id": "_e9iPoD_W4Wt"
      },
      "execution_count": 1,
      "outputs": []
    },
    {
      "cell_type": "markdown",
      "source": [
        "###entendendo filas de prioridade e função queue"
      ],
      "metadata": {
        "id": "DgorUenS7rRE"
      }
    },
    {
      "cell_type": "code",
      "source": [
        "#priority queue = fila prioritária\n",
        "\n",
        "fila = PriorityQueue()\n",
        "\n",
        "#adição de itens na fila\n",
        "fila.put((2, \"Jéssica\"))\n",
        "fila.put((3, \"Kamily\"))\n",
        "fila.put((1, \"Adriel\"))"
      ],
      "metadata": {
        "id": "DFnT1pxV7xRq"
      },
      "execution_count": 2,
      "outputs": []
    },
    {
      "cell_type": "code",
      "source": [
        "#mostra a fila\n",
        "print(fila.queue)"
      ],
      "metadata": {
        "colab": {
          "base_uri": "https://localhost:8080/"
        },
        "id": "dJ-XnuLb7-QN",
        "outputId": "b29628c2-d286-47bb-ede4-7c59085e7bf4"
      },
      "execution_count": 3,
      "outputs": [
        {
          "output_type": "stream",
          "name": "stdout",
          "text": [
            "[(1, 'Adriel'), (3, 'Kamily'), (2, 'Jéssica')]\n"
          ]
        }
      ]
    },
    {
      "cell_type": "code",
      "source": [
        "#pega o item da fila com menor valor de custo (nesse caso, Adriel) e remove ele da fila\n",
        "#em casos com mais de um valor de custo (ex.: (3, 5, Andrei)), o algoritimo irá priorizar o menor\n",
        "  #valor da primeira coluna, e, em caso de conflito (valores iguais), o menor valor na segunda\n",
        "    #coluna será o considerado. (assim por diante)\n",
        "\n",
        "print(fila.get())"
      ],
      "metadata": {
        "colab": {
          "base_uri": "https://localhost:8080/"
        },
        "id": "sY1Vm30y8B2V",
        "outputId": "752482b1-9086-4200-f374-a86998152c9c"
      },
      "execution_count": 4,
      "outputs": [
        {
          "output_type": "stream",
          "name": "stdout",
          "text": [
            "(1, 'Adriel')\n"
          ]
        }
      ]
    },
    {
      "cell_type": "code",
      "source": [
        "#verificando a lista atualizada\n",
        "print(fila.queue)"
      ],
      "metadata": {
        "colab": {
          "base_uri": "https://localhost:8080/"
        },
        "id": "CU5vPUbX8EWL",
        "outputId": "620e4a65-0ee5-4bc2-85dc-fbc48d911fd4"
      },
      "execution_count": 5,
      "outputs": [
        {
          "output_type": "stream",
          "name": "stdout",
          "text": [
            "[(2, 'Jéssica'), (3, 'Kamily')]\n"
          ]
        }
      ]
    },
    {
      "cell_type": "markdown",
      "source": [
        "###testando o labirinto com logica de busca da melhor escolha (best first search)"
      ],
      "metadata": {
        "id": "vfV4Eg2RXKab"
      }
    },
    {
      "cell_type": "code",
      "source": [
        "#collab não suporta o pyamaze, então usei o plt mesmo\n",
        "\n",
        "def exibir_labirinto_e_agente(labirinto, agente, caminho):\n",
        "    #o \"gráfico\" labirinto\n",
        "    plt.imshow(labirinto, cmap='binary')\n",
        "\n",
        "    #posições do agente no labirinto\n",
        "    posicao_x, posicao_y = agente[0], agente[1]\n",
        "\n",
        "    #demarcando a posição inicial do agente\n",
        "    plt.scatter(posicao_x, posicao_y, color='red', s=100, marker='o')\n",
        "\n",
        "    #vai demarcar o caminho percorrido pelo agente (em uma linha azul)\n",
        "    for i in range(len(caminho) - 1):\n",
        "      x1, y1 = caminho[i]\n",
        "      x2, y2 = caminho[i + 1]\n",
        "      plt.plot([x1, x2], [y1, y2], color='blue', linewidth=2)\n",
        "\n",
        "\n",
        "    plt.title('Labirinto com Agente')\n",
        "    plt.axis('on')\n",
        "    plt.show()\n",
        "\n",
        "#1 é parede e 0 é caminho livre\n",
        "labirinto = [[1, 1, 1, 1, 1],\n",
        "             [1, 0, 0, 0, 1],\n",
        "             [1, 1, 1, 0, 1],\n",
        "             [1, 0, 0, 0, 1],\n",
        "             [1, 1, 1, 1, 1]]\n",
        "\n",
        "agente = (1, 1)  #posição inicial do agente\n",
        "\n",
        "caminho = [(1, 3), (2, 3), (3, 3), (3, 2), (3, 1), (2, 1), (1, 1)]\n",
        "exibir_labirinto_e_agente(labirinto, agente, caminho)\n"
      ],
      "metadata": {
        "colab": {
          "base_uri": "https://localhost:8080/",
          "height": 0
        },
        "id": "lIjymHmDCx4y",
        "outputId": "9d826952-c09a-4809-8040-08ba48161ebf"
      },
      "execution_count": 6,
      "outputs": [
        {
          "output_type": "display_data",
          "data": {
            "text/plain": [
              "<Figure size 640x480 with 1 Axes>"
            ],
            "image/png": "[encoded data removed]"
          },
          "metadata": {}
        }
      ]
    },
    {
      "cell_type": "markdown",
      "source": [
        "###testando o labirinto com logica de busca da melhor escolha (best first search) no algortimo Aestrela (A*)"
      ],
      "metadata": {
        "id": "E9d7hWQCXM-f"
      }
    },
    {
      "cell_type": "code",
      "source": [
        "#função para calcular a heuristica absoluta (para forçar a não-existencia de caminhos negativos) h_score\n",
        "def h_score(posicao_atual, posicao_destino):\n",
        "    return abs(posicao_atual[0] - posicao_destino[0]) + abs(posicao_atual[1] - posicao_destino[1])\n",
        "\n",
        "\n",
        "#função que implementa o algoritmo de busca A*\n",
        "def a_star_search(labirinto, inicio, destino):\n",
        "\n",
        "    #fila de prioridade para nós a serem explorados\n",
        "    fila_prioridade = []\n",
        "\n",
        "    #insere a posição inicial de custo 0\n",
        "    heapq.heappush(fila_prioridade, (0, inicio))\n",
        "\n",
        "    #conjunto para armazenar nós já visitados\n",
        "    visitados = set()\n",
        "\n",
        "    #dicionário para armazenar o nó pai de cada nó\n",
        "    pais = {}\n",
        "\n",
        "    #dicionário para armazenar o custo para chegar em cada nó (já garante o inicio 0)\n",
        "    custos = {inicio: 0}\n",
        "\n",
        "    #enquanto houver nós para serem explorados, faça:\n",
        "    while fila_prioridade:\n",
        "\n",
        "        #remove o nó de menor custo da fila a cada iteração\n",
        "        custo_atual, posicao_atual = heapq.heappop(fila_prioridade)\n",
        "\n",
        "        #se a posição atual é o destino, reconstrói o caminho até o momento e retorna\n",
        "        if posicao_atual == destino:\n",
        "            caminho = []\n",
        "            while posicao_atual in pais:\n",
        "                caminho.insert(0, posicao_atual)\n",
        "                posicao_atual = pais[posicao_atual]\n",
        "            return caminho\n",
        "\n",
        "        #marca os nós como visitados a cada iteração\n",
        "        visitados.add(posicao_atual)\n",
        "\n",
        "        #verifica se há caminhos nos entornos (!=1)\n",
        "        for movimento in [(0, 1), (0, -1), (1, 0), (-1, 0)]:\n",
        "            x, y = posicao_atual[0] + movimento[0], posicao_atual[1] + movimento[1]\n",
        "            nova_posicao = (x, y)\n",
        "\n",
        "            #verifica se a nova posição atual está dentro do labirinto\n",
        "              #e se é um espaço livre não visitada\n",
        "            if 0 <= x < len(labirinto) and 0 <= y < len(labirinto[0]) and labirinto[x][y] == 0 and nova_posicao not in visitados:\n",
        "\n",
        "                #calcula o custo para chegar à nova posição\n",
        "                novo_custo = custos[posicao_atual] + 1\n",
        "                custos[nova_posicao] = novo_custo\n",
        "\n",
        "                #calcula a prioridade com base no custo atual,\n",
        "                  #na heurística de distância (h_score) e no custo estimado (g_score) até o destino\n",
        "                prioridade = novo_custo + h_score(nova_posicao, destino)\n",
        "\n",
        "                #insere a nova posição na fila de prioridade\n",
        "                heapq.heappush(fila_prioridade, (prioridade, nova_posicao))\n",
        "\n",
        "                #armazena o nó caminho (pai da posição atual)\n",
        "                pais[nova_posicao] = posicao_atual\n",
        "\n",
        "    #se não encontrar caminhos válidos, não retorna nada\n",
        "    return None\n",
        "\n",
        "\n",
        "def exibir_labirinto_e_agente(labirinto, agente, destino):\n",
        "\n",
        "    #faz o calculo direto do caminho usando o algoritmo A*\n",
        "    caminho = a_star_search(labirinto, agente, destino)\n",
        "\n",
        "    #faz a conversão do labirinto para um array\n",
        "    labirinto_array = np.array(labirinto)\n",
        "    n_linhas, n_colunas = labirinto_array.shape\n",
        "\n",
        "    #define as grades para o gráfico\n",
        "    plt.xticks(np.arange(-0.5, n_colunas, 1), [])\n",
        "    plt.yticks(np.arange(-0.5, n_linhas, 1), [])\n",
        "    plt.grid(color='black', linestyle='-', linewidth=2)\n",
        "\n",
        "    #plota o labirinto\n",
        "    plt.imshow(labirinto_array, cmap='binary')\n",
        "\n",
        "    #plota o caminho percorrido pelo agente\n",
        "    if caminho:\n",
        "        caminho_array = np.array(caminho)\n",
        "        plt.plot(caminho_array[:, 1], caminho_array[:, 0], color='blue', linewidth=3)\n",
        "\n",
        "    #plota a posição inicial do agente (bola vermelha)\n",
        "    plt.scatter(agente[1], agente[0], color='red', s=100, marker='o', zorder=5)\n",
        "\n",
        "    #plota o destino (bola verde)\n",
        "    plt.scatter(destino[1], destino[0], color='green', s=100, marker='o', zorder=5)\n",
        "\n",
        "    plt.title('Labirinto percorrido pelo agente')\n",
        "    plt.show()\n",
        "\n",
        "#labirinto usado no problema\n",
        "#1 é onde tem parede | 0 é onde está livre\n",
        "labirinto = [[1, 1, 1, 1, 1],\n",
        "             [1, 0, 0, 0, 1],\n",
        "             [1, 1, 1, 0, 1],\n",
        "             [1, 0, 0, 0, 1],\n",
        "             [1, 1, 1, 1, 1]]\n",
        "agente = (1, 1)\n",
        "destino = (3, 3)\n",
        "\n",
        "#exibe o labirinto com o agente e o caminho encontrado\n",
        "exibir_labirinto_e_agente(labirinto, agente, destino)\n"
      ],
      "metadata": {
        "colab": {
          "base_uri": "https://localhost:8080/",
          "height": 433
        },
        "id": "pd_83yZ-iziA",
        "outputId": "57421a12-c65d-4eaa-bee9-6401c843f8cf"
      },
      "execution_count": 7,
      "outputs": [
        {
          "output_type": "display_data",
          "data": {
            "text/plain": [
              "<Figure size 640x480 with 1 Axes>"
            ],
            "image/png": "[encoded data removed]"
          },
          "metadata": {}
        }
      ]
    },
    {
      "cell_type": "code",
      "source": [
        "#novo labirinto\n",
        "novo_labirinto = [[1, 1, 1, 1, 1, 1, 1],\n",
        "                  [1, 0, 0, 0, 0, 0, 1],\n",
        "                  [1, 0, 1, 1, 1, 0, 1],\n",
        "                  [1, 0, 1, 0, 0, 0, 1],\n",
        "                  [1, 0, 0, 0, 1, 0, 1],\n",
        "                  [1, 0, 1, 0, 0, 0, 1],\n",
        "                  [1, 1, 1, 1, 1, 1, 1]]\n",
        "\n",
        "#nova posição de destino\n",
        "novo_destino = (5, 5)\n",
        "\n",
        "#exibe o novo labirinto com o agente anterior e o caminho encontrado\n",
        "exibir_labirinto_e_agente(novo_labirinto, agente, novo_destino)\n"
      ],
      "metadata": {
        "colab": {
          "base_uri": "https://localhost:8080/",
          "height": 433
        },
        "id": "52L2lBS8wEeZ",
        "outputId": "7826dd5f-0c47-433e-d5de-ccadb4421632"
      },
      "execution_count": 8,
      "outputs": [
        {
          "output_type": "display_data",
          "data": {
            "text/plain": [
              "<Figure size 640x480 with 1 Axes>"
            ],
            "image/png": "[encoded data removed]"
          },
          "metadata": {}
        }
      ]
    }
  ]
}