{
 "cells": [
  {
   "cell_type": "markdown",
   "metadata": {},
   "source": [
    "1. Add\n",
    "\n",
    "2. Repeat the following\n",
    "\n"
   ]
  },
  {
   "cell_type": "code",
   "execution_count": 1,
   "metadata": {},
   "outputs": [
    {
     "name": "stderr",
     "output_type": "stream",
     "text": [
      "c:\\Users\\dorie\\anaconda3\\lib\\site-packages\\scipy\\__init__.py:146: UserWarning: A NumPy version >=1.16.5 and <1.23.0 is required for this version of SciPy (detected version 1.26.4\n",
      "  warnings.warn(f\"A NumPy version >={np_minversion} and <{np_maxversion}\"\n"
     ]
    }
   ],
   "source": [
    "import numpy as np\n",
    "from queue import PriorityQueue\n",
    "import heapq\n",
    "from pyamaze import maze, agent\n",
    "from scipy.spatial import distance\n",
    "import networkx as nx "
   ]
  },
  {
   "cell_type": "code",
   "execution_count": null,
   "metadata": {},
   "outputs": [],
   "source": []
  },
  {
   "cell_type": "code",
   "execution_count": 2,
   "metadata": {},
   "outputs": [],
   "source": [
    "class Node:\n",
    "    def __init__(self, coordinate,h=0,g=0, parent=None):\n",
    "        self.coordinate = coordinate\n",
    "        self.parent = parent\n",
    "        self.g_score = g\n",
    "        self.h_score = h\n",
    "        self.f_score = self.g_score + self.h_score\n",
    "\n",
    "    # para que serve?\n",
    "    '''def __eq__(self, other):\n",
    "        return self.coordinate == other.coordinate\n",
    "    \n",
    "\n",
    "    def __lt__(self, other):\n",
    "        return self.f_score < other.f_score\n",
    "    \n",
    "    def __repr__(self):\n",
    "        return f\"Node at {self.coordinate} with f={self.f_score}\"'''\n"
   ]
  },
  {
   "cell_type": "code",
   "execution_count": 3,
   "metadata": {},
   "outputs": [],
   "source": [
    "def h_score(celula_atual, destino):\n",
    "    linha_atual, coluna_atual = celula_atual\n",
    "\n",
    "    linha_destino, coluna_destino = destino\n",
    "\n",
    "    # distancia de manhattan\n",
    "    dist = abs(linha_destino - linha_atual) + abs(coluna_destino - coluna_atual)\n",
    "\n",
    "\n",
    "    return dist"
   ]
  },
  {
   "cell_type": "code",
   "execution_count": 4,
   "metadata": {},
   "outputs": [],
   "source": [
    "def obter_vizinhos(matriz, coord):\n",
    "    if matriz[coord] == 1:\n",
    "        print(\"Coordenada inválida\")\n",
    "        return []\n",
    "    else:\n",
    "        linha, coluna = coord\n",
    "        linhas, colunas = matriz.shape\n",
    "        vizinhos = []\n",
    "        direcoes = [(0, 1), (0, -1), (1, 0), (-1, 0),\n",
    "                     (1, 1), (1, -1), (-1, 1), (-1, -1)]  # Todas as direções\n",
    "        custo_movimento = [10,10,10,10,14,14,14,14]  # Custo de movimento para cada direção\n",
    "        \n",
    "        for dc, custo in zip(direcoes, custo_movimento):\n",
    "            nova_linha, nova_coluna = linha + dc[0], coluna + dc[1]\n",
    "\n",
    "            if 0 <= nova_linha < linhas and 0 <= nova_coluna < colunas:\n",
    "                if matriz[nova_linha, nova_coluna] == 0:  # Se não há obstáculo na nova posição\n",
    "                    vizinhos.append(((nova_linha, nova_coluna), custo))  # Adiciona o vizinho e a direção do movimento\n",
    "        \n",
    "    return vizinhos #retorna (coordenada do vizinho, custo do movimento)\n"
   ]
  },
  {
   "cell_type": "code",
   "execution_count": 5,
   "metadata": {},
   "outputs": [],
   "source": [
    "def update_node(node, new_g, new_parent):\n",
    "    node.parent = new_parent\n",
    "    node.g = new_g\n",
    "    node.f = node.g + node.h"
   ]
  },
  {
   "cell_type": "code",
   "execution_count": 6,
   "metadata": {},
   "outputs": [],
   "source": [
    "def caminho(atual,dest):\n",
    "    caminho = []\n",
    "    while atual != dest and atual != None:\n",
    "        caminho.append(atual)\n",
    "        atual = atual.parent\n",
    "    caminho.reverse()\n",
    "    print(caminho)\n",
    "    return caminho\n"
   ]
  },
  {
   "cell_type": "code",
   "execution_count": 7,
   "metadata": {},
   "outputs": [],
   "source": [
    "def a_star(matriz, inicio, dest):\n",
    "    No_inicial = Node(inicio, h_score(inicio, dest))\n",
    "    #print(No_inicial.g_score)\n",
    "    \n",
    "    fila = PriorityQueue()\n",
    "    closed_list = []\n",
    "\n",
    "\n",
    "    # adiciona o nó inicial na open list\n",
    "    fila.put((No_inicial.f_score, No_inicial))\n",
    "\n",
    "\n",
    "    while not fila.empty():\n",
    "        no_atual = fila.get()[1]\n",
    "        print(no_atual)\n",
    "\n",
    "        vizinhos = obter_vizinhos(matriz, no_atual.coordinate)\n",
    "\n",
    "\n",
    "        # vizinho[0] é a coordenada do vizinho\n",
    "        # matriz vizinho[0] é o valor da matriz\n",
    "        # vizinho[1] é o custo do movimento\n",
    "        # matriz[vizinho[0]] é o valor da matriz na coordenada do vizinho[0\n",
    "        for vizinho in vizinhos:\n",
    "            print(vizinho[0])\n",
    "            # if matriz[vizinho[0]] == 3:\n",
    "            if vizinho[0] == dest:\n",
    "                print(\"Destino encontrado\")\n",
    "                novo_no = Node(vizinho[0], h_score(vizinho[0], dest), no_atual.g_score + vizinho[1], no_atual) \n",
    "                return caminho(no_atual, novo_no)\n",
    "            else:\n",
    "\n",
    "                if vizinho[0] in closed_list:\n",
    "                    print(\"Já está na closed list\")\n",
    "                    if no_atual.g_score + vizinho[1] < Node.g_score:\n",
    "                        update_node(Node, no_atual.g_score + vizinho[1], no_atual)\n",
    "                    continue\n",
    "            \n",
    "                if vizinho[1] == 10:\n",
    "                    novo_no = Node(vizinho[0], h_score(vizinho[0], dest), no_atual.g_score + 10, no_atual)\n",
    "                elif vizinho[1] == 14:\n",
    "                    novo_no = Node(vizinho[0], h_score(vizinho[0], dest), no_atual.g_score + 14, no_atual)\n",
    "                fila.put((novo_no.f_score, novo_no))\n",
    "\n",
    "                ## verificar se o vizinho já ta na closed list\n",
    "                # se tiver \n",
    "\n",
    "\n",
    "        closed_list.append(no_atual)\n",
    "\n",
    "    #return None\n",
    "    "
   ]
  },
  {
   "cell_type": "code",
   "execution_count": 8,
   "metadata": {},
   "outputs": [],
   "source": [
    "def inicializar_matriz():\n",
    "    return np.zeros((11,11),dtype=int)\n",
    "\n",
    "matriz = inicializar_matriz()\n"
   ]
  },
  {
   "cell_type": "code",
   "execution_count": 9,
   "metadata": {},
   "outputs": [
    {
     "data": {
      "text/plain": [
       "array([[0, 0, 0, 0, 0, 0, 0, 0, 0, 0, 0],\n",
       "       [0, 0, 0, 0, 0, 0, 0, 0, 0, 0, 0],\n",
       "       [0, 0, 0, 0, 0, 0, 0, 0, 0, 0, 0],\n",
       "       [0, 0, 0, 0, 0, 0, 0, 0, 0, 0, 0],\n",
       "       [0, 0, 0, 0, 0, 0, 0, 0, 0, 0, 0],\n",
       "       [0, 0, 0, 0, 0, 0, 0, 0, 0, 0, 0],\n",
       "       [0, 0, 0, 0, 0, 0, 0, 0, 0, 0, 0],\n",
       "       [0, 0, 0, 0, 0, 0, 0, 0, 0, 0, 0],\n",
       "       [0, 0, 0, 0, 0, 0, 0, 0, 0, 0, 0],\n",
       "       [0, 0, 0, 0, 0, 0, 0, 0, 0, 0, 0],\n",
       "       [0, 0, 0, 0, 0, 0, 0, 0, 0, 0, 0]])"
      ]
     },
     "execution_count": 9,
     "metadata": {},
     "output_type": "execute_result"
    }
   ],
   "source": [
    "matriz"
   ]
  },
  {
   "cell_type": "code",
   "execution_count": 10,
   "metadata": {},
   "outputs": [],
   "source": [
    "#add mais obstaculos\n",
    "\n",
    "def add_obstacles_and_objectives(matriz, num_obstacles, num_objectives):\n",
    "    linhas, colunas = matriz.shape\n",
    "    obstaculos_added = 0\n",
    "    objectives_added = 0\n",
    "\n",
    "    np.random.seed(99)\n",
    "    while obstaculos_added < num_obstacles:\n",
    "        x = np.random.randint(0,linhas)\n",
    "        y = np.random.randint(0,colunas)\n",
    "\n",
    "        if matriz[x,y] == 0:\n",
    "            matriz[x,y] = 1\n",
    "            obstaculos_added += 1\n",
    "\n",
    "    while objectives_added < num_objectives:\n",
    "        x = np.random.randint(0,linhas)\n",
    "        y = np.random.randint(0,colunas)\n",
    "\n",
    "        if matriz[x,y] == 0:\n",
    "            matriz[x,y] = 3\n",
    "            objectives_added += 1\n",
    "    \n",
    "    matriz[0,5] = 0\n",
    "    return matriz"
   ]
  },
  {
   "cell_type": "code",
   "execution_count": 11,
   "metadata": {},
   "outputs": [
    {
     "data": {
      "text/plain": [
       "array([[0, 0, 3, 0, 0, 0, 1, 3, 0, 0, 0],\n",
       "       [0, 1, 3, 1, 0, 0, 0, 1, 0, 3, 0],\n",
       "       [1, 0, 0, 0, 1, 1, 0, 0, 3, 0, 0],\n",
       "       [0, 0, 3, 1, 0, 0, 0, 1, 0, 0, 0],\n",
       "       [0, 0, 0, 0, 0, 0, 0, 1, 0, 1, 0],\n",
       "       [0, 0, 0, 0, 1, 3, 0, 0, 0, 1, 0],\n",
       "       [0, 0, 0, 0, 0, 0, 0, 0, 0, 0, 1],\n",
       "       [0, 0, 0, 0, 0, 0, 0, 0, 0, 0, 1],\n",
       "       [0, 0, 0, 0, 0, 0, 0, 0, 1, 0, 0],\n",
       "       [1, 1, 3, 0, 3, 0, 0, 0, 1, 0, 0],\n",
       "       [0, 0, 0, 3, 0, 0, 0, 0, 0, 0, 0]])"
      ]
     },
     "execution_count": 11,
     "metadata": {},
     "output_type": "execute_result"
    }
   ],
   "source": [
    "#num_obstacles = np.random.randint(10,20)\n",
    "\n",
    "\n",
    "matriz_com_coisa = add_obstacles_and_objectives(matriz, 20, 10)\n",
    "matriz_com_coisa"
   ]
  },
  {
   "cell_type": "code",
   "execution_count": 12,
   "metadata": {},
   "outputs": [
    {
     "name": "stdout",
     "output_type": "stream",
     "text": [
      "[(0, 2), (0, 7), (1, 2), (1, 9), (2, 8), (3, 2), (5, 5), (9, 2), (9, 4), (10, 3)]\n"
     ]
    }
   ],
   "source": [
    "coordenadas_valor_3 = [(linha, coluna) for linha in range(11) for coluna in range(11) if matriz_com_coisa[linha][coluna] == 3]\n",
    "print(coordenadas_valor_3)\n"
   ]
  },
  {
   "cell_type": "code",
   "execution_count": 14,
   "metadata": {},
   "outputs": [
    {
     "name": "stdout",
     "output_type": "stream",
     "text": [
      "<__main__.Node object at 0x000001C3BD8AFCD0>\n",
      "(0, 4)\n",
      "(1, 5)\n",
      "(1, 6)\n",
      "(1, 4)\n",
      "<__main__.Node object at 0x000001C3CD488790>\n",
      "(0, 5)\n",
      "(0, 3)\n",
      "(1, 4)\n",
      "(1, 5)\n",
      "<__main__.Node object at 0x000001C3CD488B50>\n",
      "(1, 6)\n",
      "(1, 4)\n"
     ]
    },
    {
     "ename": "TypeError",
     "evalue": "'<' not supported between instances of 'Node' and 'Node'",
     "output_type": "error",
     "traceback": [
      "\u001b[1;31m---------------------------------------------------------------------------\u001b[0m",
      "\u001b[1;31mTypeError\u001b[0m                                 Traceback (most recent call last)",
      "Input \u001b[1;32mIn [14]\u001b[0m, in \u001b[0;36m<cell line: 6>\u001b[1;34m()\u001b[0m\n\u001b[0;32m      3\u001b[0m inicio \u001b[38;5;241m=\u001b[39m (\u001b[38;5;241m0\u001b[39m,\u001b[38;5;241m5\u001b[39m)\n\u001b[0;32m      4\u001b[0m dest \u001b[38;5;241m=\u001b[39m (\u001b[38;5;241m0\u001b[39m,\u001b[38;5;241m2\u001b[39m)\n\u001b[1;32m----> 6\u001b[0m caminho \u001b[38;5;241m=\u001b[39m \u001b[43ma_star\u001b[49m\u001b[43m(\u001b[49m\u001b[43mmatriz_com_coisa\u001b[49m\u001b[43m,\u001b[49m\u001b[43m \u001b[49m\u001b[43minicio\u001b[49m\u001b[43m,\u001b[49m\u001b[43m \u001b[49m\u001b[43mdest\u001b[49m\u001b[43m)\u001b[49m\n",
      "Input \u001b[1;32mIn [7]\u001b[0m, in \u001b[0;36ma_star\u001b[1;34m(matriz, inicio, dest)\u001b[0m\n\u001b[0;32m     41\u001b[0m         \u001b[38;5;28;01melif\u001b[39;00m vizinho[\u001b[38;5;241m1\u001b[39m] \u001b[38;5;241m==\u001b[39m \u001b[38;5;241m14\u001b[39m:\n\u001b[0;32m     42\u001b[0m             novo_no \u001b[38;5;241m=\u001b[39m Node(vizinho[\u001b[38;5;241m0\u001b[39m], h_score(vizinho[\u001b[38;5;241m0\u001b[39m], dest), no_atual\u001b[38;5;241m.\u001b[39mg_score \u001b[38;5;241m+\u001b[39m \u001b[38;5;241m14\u001b[39m, no_atual)\n\u001b[1;32m---> 43\u001b[0m         \u001b[43mfila\u001b[49m\u001b[38;5;241;43m.\u001b[39;49m\u001b[43mput\u001b[49m\u001b[43m(\u001b[49m\u001b[43m(\u001b[49m\u001b[43mnovo_no\u001b[49m\u001b[38;5;241;43m.\u001b[39;49m\u001b[43mf_score\u001b[49m\u001b[43m,\u001b[49m\u001b[43m \u001b[49m\u001b[43mnovo_no\u001b[49m\u001b[43m)\u001b[49m\u001b[43m)\u001b[49m\n\u001b[0;32m     45\u001b[0m         \u001b[38;5;66;03m## verificar se o vizinho já ta na closed list\u001b[39;00m\n\u001b[0;32m     46\u001b[0m         \u001b[38;5;66;03m# se tiver \u001b[39;00m\n\u001b[0;32m     49\u001b[0m closed_list\u001b[38;5;241m.\u001b[39mappend(no_atual)\n",
      "File \u001b[1;32mc:\\Users\\dorie\\anaconda3\\lib\\queue.py:150\u001b[0m, in \u001b[0;36mQueue.put\u001b[1;34m(self, item, block, timeout)\u001b[0m\n\u001b[0;32m    148\u001b[0m                 \u001b[38;5;28;01mraise\u001b[39;00m Full\n\u001b[0;32m    149\u001b[0m             \u001b[38;5;28mself\u001b[39m\u001b[38;5;241m.\u001b[39mnot_full\u001b[38;5;241m.\u001b[39mwait(remaining)\n\u001b[1;32m--> 150\u001b[0m \u001b[38;5;28;43mself\u001b[39;49m\u001b[38;5;241;43m.\u001b[39;49m\u001b[43m_put\u001b[49m\u001b[43m(\u001b[49m\u001b[43mitem\u001b[49m\u001b[43m)\u001b[49m\n\u001b[0;32m    151\u001b[0m \u001b[38;5;28mself\u001b[39m\u001b[38;5;241m.\u001b[39munfinished_tasks \u001b[38;5;241m+\u001b[39m\u001b[38;5;241m=\u001b[39m \u001b[38;5;241m1\u001b[39m\n\u001b[0;32m    152\u001b[0m \u001b[38;5;28mself\u001b[39m\u001b[38;5;241m.\u001b[39mnot_empty\u001b[38;5;241m.\u001b[39mnotify()\n",
      "File \u001b[1;32mc:\\Users\\dorie\\anaconda3\\lib\\queue.py:236\u001b[0m, in \u001b[0;36mPriorityQueue._put\u001b[1;34m(self, item)\u001b[0m\n\u001b[0;32m    235\u001b[0m \u001b[38;5;28;01mdef\u001b[39;00m \u001b[38;5;21m_put\u001b[39m(\u001b[38;5;28mself\u001b[39m, item):\n\u001b[1;32m--> 236\u001b[0m     \u001b[43mheappush\u001b[49m\u001b[43m(\u001b[49m\u001b[38;5;28;43mself\u001b[39;49m\u001b[38;5;241;43m.\u001b[39;49m\u001b[43mqueue\u001b[49m\u001b[43m,\u001b[49m\u001b[43m \u001b[49m\u001b[43mitem\u001b[49m\u001b[43m)\u001b[49m\n",
      "\u001b[1;31mTypeError\u001b[0m: '<' not supported between instances of 'Node' and 'Node'"
     ]
    }
   ],
   "source": [
    "# testar a_star\n",
    "\n",
    "inicio = (0,5)\n",
    "dest = (0,2)\n",
    "\n",
    "caminho = a_star(matriz_com_coisa, inicio, dest)\n",
    "print(caminho)"
   ]
  },
  {
   "cell_type": "code",
   "execution_count": null,
   "metadata": {},
   "outputs": [
    {
     "data": {
      "image/png": "[encoded data removed]",
      "text/plain": [
       "<Figure size 432x288 with 1 Axes>"
      ]
     },
     "metadata": {
      "needs_background": "light"
     },
     "output_type": "display_data"
    }
   ],
   "source": [
    "import numpy as np\n",
    "import matplotlib.pyplot as plt\n",
    "\n",
    "def exibir_labirinto_com_obstaculos_e_objetivos(mapa_com_obstaculos_e_objetivos):\n",
    "    # Converte o mapa para um array numpy para plotagem\n",
    "    mapa_array = np.array(mapa_com_obstaculos_e_objetivos)\n",
    "    n_linhas, n_colunas = mapa_array.shape\n",
    "\n",
    "    plt.xticks(np.arange(-0.5, n_colunas, 1), [])\n",
    "    plt.yticks(np.arange(-0.5, n_linhas, 1), [])\n",
    "    plt.grid(color='black', linestyle='-', linewidth=2)\n",
    "\n",
    "    plt.imshow(mapa_array, cmap='binary')\n",
    "\n",
    "    # Posição dos obstáculos (células com valor 1)\n",
    "    obstaculos_x, obstaculos_y = np.where(mapa_array == 1)\n",
    "    plt.scatter(obstaculos_y, obstaculos_x, color='gray', s=100, marker='s', zorder=5)\n",
    "\n",
    "    # Posição dos objetivos (células com valor 3)\n",
    "    objetivos_x, objetivos_y = np.where(mapa_array == 3)\n",
    "    plt.scatter(objetivos_y, objetivos_x, color='red', s=100, marker='o', zorder=5)\n",
    "\n",
    "    plt.title('Mapa com Obstáculos e Objetivos')\n",
    "    plt.show()\n",
    "\n",
    "# Exemplo de uso\n",
    "mapa_com_obstaculos_e_objetivos = [\n",
    "    [0, 0, 0, 0, 0, 0, 0, 0, 0, 0, 0],\n",
    "    [0, 1, 1, 3, 1, 1, 1, 0, 0, 0, 0],\n",
    "    [0, 0, 0, 0, 1, 0, 1, 0, 0, 0, 0],\n",
    "    [0, 0, 0, 0, 1, 3, 0, 0, 1, 0, 0],\n",
    "    [0, 1, 0, 0, 0, 0, 1, 0, 3, 0, 0],\n",
    "    [0, 0, 0, 0, 1, 0, 0, 0, 0, 0, 0],\n",
    "    [0, 0, 0, 0, 1, 0, 0, 1, 0, 0, 0],\n",
    "    [0, 1, 0, 0, 0, 0, 0, 0, 0, 0, 0],\n",
    "    [0, 0, 3, 0, 0, 0, 0, 0, 0, 0, 0],\n",
    "    [0, 0, 0, 1, 0, 0, 0, 0, 0, 0, 0],\n",
    "    [0, 0, 0, 0, 0, 0, 0, 0, 0, 1, 0],\n",
    "]\n",
    "\n",
    "# Adicionar pontos objetivos (valor 3) em posições específicas\n",
    "#mapa_com_obstaculos_e_objetivos[4][5] = 3  # Exemplo de ponto objetivo\n",
    "#mapa_com_obstaculos_e_objetivos[6][8] = 3  # Outro exemplo de ponto objetivo\n",
    "\n",
    "exibir_labirinto_com_obstaculos_e_objetivos(mapa_com_obstaculos_e_objetivos)\n"
   ]
  },
  {
   "cell_type": "code",
   "execution_count": null,
   "metadata": {},
   "outputs": [
    {
     "name": "stdout",
     "output_type": "stream",
     "text": [
      "Heap após heapify: [1, 1, 2, 3, 3, 9, 4, 6, 5, 5, 5]\n",
      "Heap após adicionar 7: [1, 1, 2, 3, 3, 7, 4, 6, 5, 5, 5, 9]\n",
      "Menor elemento removido: 1\n",
      "Heap após remover menor elemento: [1, 3, 2, 3, 5, 7, 4, 6, 5, 5, 9]\n",
      "Menor elemento sem removê-lo: 1\n",
      "Heap após remover menor elemento novamente: [2, 3, 4, 3, 5, 7, 9, 6, 5, 5]\n"
     ]
    }
   ],
   "source": [
    "import heapq\n",
    "\n",
    "# Criando uma lista desordenada\n",
    "lista_desordenada = [3, 1, 4, 1, 5, 9, 2, 6, 5, 3, 5]\n",
    "\n",
    "# Transformando a lista em uma heap\n",
    "heapq.heapify(lista_desordenada)\n",
    "print(\"Heap após heapify:\", lista_desordenada)\n",
    "\n",
    "# Adicionando um elemento à heap\n",
    "heapq.heappush(lista_desordenada, 7)\n",
    "print(\"Heap após adicionar 7:\", lista_desordenada)\n",
    "\n",
    "# Removendo e retornando o menor elemento da heap\n",
    "menor_elemento = heapq.heappop(lista_desordenada)\n",
    "print(\"Menor elemento removido:\", menor_elemento)\n",
    "print(\"Heap após remover menor elemento:\", lista_desordenada)\n",
    "\n",
    "# Obtendo o menor elemento da heap sem removê-lo\n",
    "menor_elemento = heapq.heappop(lista_desordenada)\n",
    "print(\"Menor elemento sem removê-lo:\", menor_elemento)\n",
    "print(\"Heap após remover menor elemento novamente:\", lista_desordenada)\n"
   ]
  },
  {
   "cell_type": "code",
   "execution_count": null,
   "metadata": {},
   "outputs": [
    {
     "name": "stdout",
     "output_type": "stream",
     "text": [
      "[(1, (0, 2)), (1.7, (0, 1)), (4, 'Quatro'), (3, 'Três')]\n",
      "[(1.7, (0, 1)), (3, 'Três'), (4, 'Quatro')]\n"
     ]
    }
   ],
   "source": [
    "from queue import PriorityQueue\n",
    "\n",
    "# Criando uma priority queue vazia\n",
    "priority_queue = PriorityQueue()\n",
    "\n",
    "# Adicionando elementos à priority queue\n",
    "priority_queue.put((3, \"Três\"))\n",
    "priority_queue.put((1.7, (0,1)))\n",
    "priority_queue.put((4, \"Quatro\"))\n",
    "priority_queue.put((1, (0,2)))  # Prioridades iguais são resolvidas pela ordem de inserção\n",
    "\n",
    "print(priority_queue.queue)\n",
    "priority_queue.get()\n",
    "print(priority_queue.queue)\n"
   ]
  },
  {
   "cell_type": "code",
   "execution_count": null,
   "metadata": {},
   "outputs": [],
   "source": []
  }
 ],
 "metadata": {
  "kernelspec": {
   "display_name": "base",
   "language": "python",
   "name": "python3"
  },
  "language_info": {
   "codemirror_mode": {
    "name": "ipython",
    "version": 3
   },
   "file_extension": ".py",
   "mimetype": "text/x-python",
   "name": "python",
   "nbconvert_exporter": "python",
   "pygments_lexer": "ipython3",
   "version": "3.9.12"
  }
 },
 "nbformat": 4,
 "nbformat_minor": 2
}
