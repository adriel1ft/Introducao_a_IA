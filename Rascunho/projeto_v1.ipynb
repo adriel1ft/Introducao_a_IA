{
 "cells": [
  {
   "cell_type": "code",
   "execution_count": 1,
   "metadata": {},
   "outputs": [],
   "source": [
    "import numpy as np\n",
    "import heapq"
   ]
  },
  {
   "cell_type": "markdown",
   "metadata": {},
   "source": [
    "Custo de um nó:\n",
    "\n",
    "Custo Total = Custo G + Custo H\n",
    "\n",
    "Custo G = Custo de Geração\n",
    "Custo H = Custo Heurístico\n"
   ]
  },
  {
   "cell_type": "code",
   "execution_count": 4,
   "metadata": {},
   "outputs": [],
   "source": [
    "def inicializar_matriz():\n",
    "    return np.zeros((11,11),dtype=int)"
   ]
  },
  {
   "cell_type": "code",
   "execution_count": 5,
   "metadata": {},
   "outputs": [],
   "source": [
    "# ocupação de quadrado e vizinhos\n",
    "\n",
    "def ocupar_celula(matriz,linha,coluna):\n",
    "    matriz[linha][coluna]=1\n",
    "\n",
    "    for i in range(-1,2):\n",
    "        for j in range(-1,2):\n",
    "            nova_linha = linha + i\n",
    "            nova_coluna = coluna + j\n",
    "            if 0 <= nova_linha < 11 and 0 <= nova_coluna < 11:\n",
    "                matriz[nova_linha][nova_coluna] = 1"
   ]
  },
  {
   "cell_type": "code",
   "execution_count": 7,
   "metadata": {},
   "outputs": [],
   "source": [
    "def find_melhor_posicao(matriz):\n",
    "\n",
    "    melhor_linha = 0\n",
    "    melhor_coluna = 0\n",
    "    max_ocupacao = 0\n",
    "\n",
    "\n",
    "    for linha in range(11):\n",
    "        for coluna in range(11):\n",
    "            ocupacao_atual = np.sum(matriz[linha-1:linha+2, coluna-1:coluna+2])\n",
    "            if ocupacao_atual > max_ocupacao:\n",
    "                max_ocupacao = ocupacao_atual\n",
    "                melhor_linha = linha\n",
    "                melhor_coluna = coluna\n",
    "\n",
    "    return melhor_linha, melhor_coluna\n",
    " "
   ]
  },
  {
   "cell_type": "code",
   "execution_count": 8,
   "metadata": {},
   "outputs": [],
   "source": [
    "matriz = inicializar_matriz()"
   ]
  },
  {
   "cell_type": "code",
   "execution_count": 9,
   "metadata": {},
   "outputs": [
    {
     "data": {
      "text/plain": [
       "array([[0, 0, 0, 0, 0, 0, 0, 0, 0, 0, 0],\n",
       "       [0, 0, 0, 0, 0, 0, 0, 0, 0, 0, 0],\n",
       "       [0, 0, 0, 0, 0, 0, 0, 0, 0, 0, 0],\n",
       "       [0, 0, 0, 0, 0, 0, 0, 0, 0, 0, 0],\n",
       "       [0, 0, 0, 0, 0, 0, 0, 0, 0, 0, 0],\n",
       "       [0, 0, 0, 0, 0, 0, 0, 0, 0, 0, 0],\n",
       "       [0, 0, 0, 0, 0, 0, 0, 0, 0, 0, 0],\n",
       "       [0, 0, 0, 0, 0, 0, 0, 0, 0, 0, 0],\n",
       "       [0, 0, 0, 0, 0, 0, 0, 0, 0, 0, 0],\n",
       "       [0, 0, 0, 0, 0, 0, 0, 0, 0, 0, 0],\n",
       "       [0, 0, 0, 0, 0, 0, 0, 0, 0, 0, 0]])"
      ]
     },
     "execution_count": 9,
     "metadata": {},
     "output_type": "execute_result"
    }
   ],
   "source": [
    "matriz"
   ]
  },
  {
   "cell_type": "code",
   "execution_count": 10,
   "metadata": {},
   "outputs": [],
   "source": [
    "melhor_linha, melhor_coluna = find_melhor_posicao(matriz)\n",
    "\n",
    "ocupar_celula(matriz, melhor_linha, melhor_coluna)\n",
    "\n"
   ]
  },
  {
   "cell_type": "code",
   "execution_count": 11,
   "metadata": {},
   "outputs": [
    {
     "name": "stdout",
     "output_type": "stream",
     "text": [
      "Matriz inicial:\n",
      "[[1 1 0 0 0 0 0 0 0 0 0]\n",
      " [1 1 0 0 0 0 0 0 0 0 0]\n",
      " [0 0 0 0 0 0 0 0 0 0 0]\n",
      " [0 0 0 0 0 0 0 0 0 0 0]\n",
      " [0 0 0 0 0 0 0 0 0 0 0]\n",
      " [0 0 0 0 0 0 0 0 0 0 0]\n",
      " [0 0 0 0 0 0 0 0 0 0 0]\n",
      " [0 0 0 0 0 0 0 0 0 0 0]\n",
      " [0 0 0 0 0 0 0 0 0 0 0]\n",
      " [0 0 0 0 0 0 0 0 0 0 0]\n",
      " [0 0 0 0 0 0 0 0 0 0 0]]\n",
      "Melhor posição para ocupar:\n",
      "0,0\n"
     ]
    }
   ],
   "source": [
    "print(\"Matriz inicial:\")\n",
    "print(matriz)\n",
    "\n",
    "print(\"Melhor posição para ocupar:\")\n",
    "print(f\"{melhor_linha},{melhor_coluna}\")"
   ]
  },
  {
   "cell_type": "code",
   "execution_count": null,
   "metadata": {},
   "outputs": [],
   "source": []
  }
 ],
 "metadata": {
  "kernelspec": {
   "display_name": "base",
   "language": "python",
   "name": "python3"
  },
  "language_info": {
   "codemirror_mode": {
    "name": "ipython",
    "version": 3
   },
   "file_extension": ".py",
   "mimetype": "text/x-python",
   "name": "python",
   "nbconvert_exporter": "python",
   "pygments_lexer": "ipython3",
   "version": "3.9.12"
  }
 },
 "nbformat": 4,
 "nbformat_minor": 2
}
