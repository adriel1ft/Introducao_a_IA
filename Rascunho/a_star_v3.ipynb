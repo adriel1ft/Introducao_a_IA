{
 "cells": [
  {
   "cell_type": "code",
   "execution_count": 76,
   "metadata": {},
   "outputs": [],
   "source": [
    "import numpy as np\n",
    "from queue import PriorityQueue\n",
    "import heapq\n",
    "from scipy.spatial import distance\n",
    "import networkx as nx\n",
    "import matplotlib.pyplot as plt "
   ]
  },
  {
   "cell_type": "code",
   "execution_count": 62,
   "metadata": {},
   "outputs": [],
   "source": [
    "class No():\n",
    "    \"\"\"A No class for A* Pathfinding\"\"\"\n",
    "\n",
    "    def __init__(self, pai=None, coordenada=None):\n",
    "        self.pai = pai\n",
    "        self.coordenada = coordenada\n",
    "\n",
    "        self.g = 0\n",
    "        self.h = 0\n",
    "        self.f = 0\n",
    "\n",
    "    def __eq__(self, other):\n",
    "        return self.coordenada == other.coordenada\n",
    "\n",
    "\n",
    "def calcular_h_score(coordenada, destino):\n",
    "    \"\"\"Calcula o h-score usando a distância Euclidiana\"\"\"\n",
    "    return ((coordenada[0] - destino[0])) + ((coordenada[1] - destino[1]))\n",
    "\n",
    "\n",
    "def gerar_filhos(matriz, current_no, end_no):\n",
    "    \"\"\"Gera os filhos válidos de um nó\"\"\"\n",
    "    children = []\n",
    "    for new_coordenada in [(0, -1), (0, 1), (-1, 0), (1, 0), (-1, -1), (-1, 1), (1, -1), (1, 1)]: # Adjacent squares\n",
    "        no_coordenada = (current_no.coordenada[0] + new_coordenada[0], current_no.coordenada[1] + new_coordenada[1])\n",
    "\n",
    "        if 0 <= no_coordenada[0] < len(matriz) and 0 <= no_coordenada[1] < len(matriz[0]) and matriz[no_coordenada[0]][no_coordenada[1]] == 0:\n",
    "            novo_no = No(current_no, no_coordenada)\n",
    "            novo_no.g = current_no.g + 1\n",
    "            novo_no.h = calcular_h_score(no_coordenada, end_no.coordenada)\n",
    "            novo_no.f = novo_no.g + novo_no.h\n",
    "            children.append(novo_no)\n",
    "\n",
    "    return children\n",
    "\n",
    "\n",
    "def a_star(matriz, start, end):\n",
    "    \"\"\"Executa o algoritmo A*\"\"\"\n",
    "    no_inicial = No(None, start)\n",
    "    no_final = No(None, end)\n",
    "\n",
    "    lista_aberta = [no_inicial]\n",
    "    lista_fechada = []\n",
    "\n",
    "    while lista_aberta:\n",
    "        lista_aberta.sort(key=lambda x: x.f) # Ordena a lista aberta pelo f-score\n",
    "        no_atual = lista_aberta[0]\n",
    "        lista_aberta.remove(no_atual)\n",
    "        lista_fechada.append(no_atual)\n",
    "\n",
    "        if no_atual == no_final:\n",
    "            path = []\n",
    "            while no_atual:\n",
    "                path.append(no_atual.coordenada)\n",
    "                no_atual = no_atual.pai\n",
    "            return path[::-1]\n",
    "\n",
    "        filhos = gerar_filhos(matriz, no_atual, no_final)\n",
    "\n",
    "        for filho in filhos:\n",
    "            if filho in lista_fechada:\n",
    "                continue\n",
    "\n",
    "            novo_g = no_atual.g + 1\n",
    "            if filho in lista_aberta:\n",
    "                if novo_g < filho.g:\n",
    "                    filho.g = novo_g\n",
    "                    filho.f = filho.g + filho.h\n",
    "                    filho.pai = no_atual\n",
    "            else:\n",
    "                filho.g = novo_g\n",
    "                filho.h = calcular_h_score(filho.coordenada, no_final.coordenada)\n",
    "                filho.f = filho.g + filho.h\n",
    "                filho.pai = no_atual\n",
    "                lista_aberta.append(filho)\n",
    "\n",
    "    return None\n",
    "\n",
    "\n",
    "\n"
   ]
  },
  {
   "cell_type": "code",
   "execution_count": 63,
   "metadata": {},
   "outputs": [],
   "source": [
    "#add mais obstaculos\n",
    "\n",
    "def matriz_obstaculos_objetivos(tam_matriz, num_obstacles, num_objectives):\n",
    "    \n",
    "    matriz = np.zeros((tam_matriz,tam_matriz),dtype=int)\n",
    "    \n",
    "    linhas, colunas = matriz.shape\n",
    "    obstaculos_added = 0\n",
    "    objectives_added = 0\n",
    "\n",
    "    np.random.seed(99)\n",
    "    while obstaculos_added < num_obstacles:\n",
    "        x = np.random.randint(0,linhas)\n",
    "        y = np.random.randint(0,colunas)\n",
    "\n",
    "        if matriz[x,y] == 0:\n",
    "            matriz[x,y] = 1\n",
    "            obstaculos_added += 1\n",
    "\n",
    "    while objectives_added < num_objectives:\n",
    "        x = np.random.randint(0,linhas)\n",
    "        y = np.random.randint(0,colunas)\n",
    "\n",
    "        if matriz[x,y] == 0:\n",
    "            matriz[x,y] = 3\n",
    "            objectives_added += 1\n",
    "    \n",
    "    matriz[0,5] = 0\n",
    "    return matriz"
   ]
  },
  {
   "cell_type": "code",
   "execution_count": 64,
   "metadata": {},
   "outputs": [
    {
     "data": {
      "text/plain": [
       "array([[0, 0, 3, 0, 0, 0, 1, 3, 0, 0, 0],\n",
       "       [0, 1, 3, 1, 0, 0, 0, 1, 0, 3, 0],\n",
       "       [1, 0, 0, 0, 1, 1, 0, 0, 3, 0, 0],\n",
       "       [0, 0, 3, 1, 0, 0, 0, 1, 0, 0, 0],\n",
       "       [0, 0, 0, 0, 0, 0, 0, 1, 0, 1, 0],\n",
       "       [0, 0, 0, 0, 1, 3, 0, 0, 0, 1, 0],\n",
       "       [0, 0, 0, 0, 0, 0, 0, 0, 0, 0, 1],\n",
       "       [0, 0, 0, 0, 0, 0, 0, 0, 0, 0, 1],\n",
       "       [0, 0, 0, 0, 0, 0, 0, 0, 1, 0, 0],\n",
       "       [1, 1, 3, 0, 3, 0, 0, 0, 1, 0, 0],\n",
       "       [0, 0, 0, 3, 0, 0, 0, 0, 0, 0, 0]])"
      ]
     },
     "execution_count": 64,
     "metadata": {},
     "output_type": "execute_result"
    }
   ],
   "source": [
    "matriz = matriz_obstaculos_objetivos(11, 20, 10)\n",
    "matriz"
   ]
  },
  {
   "cell_type": "code",
   "execution_count": 65,
   "metadata": {},
   "outputs": [
    {
     "data": {
      "text/plain": [
       "array([[0, 0, 0, 0, 0, 0, 1, 0, 0, 0, 0],\n",
       "       [0, 1, 0, 1, 0, 0, 0, 1, 0, 0, 0],\n",
       "       [1, 0, 0, 0, 1, 1, 0, 0, 0, 0, 0],\n",
       "       [0, 0, 0, 1, 0, 0, 0, 1, 0, 0, 0],\n",
       "       [0, 0, 0, 0, 0, 0, 0, 1, 0, 1, 0],\n",
       "       [0, 0, 0, 0, 1, 0, 0, 0, 0, 1, 0],\n",
       "       [0, 0, 0, 0, 0, 0, 0, 0, 0, 0, 1],\n",
       "       [0, 0, 0, 0, 0, 0, 0, 0, 0, 0, 1],\n",
       "       [0, 0, 0, 0, 0, 0, 0, 0, 1, 0, 0],\n",
       "       [1, 1, 0, 0, 0, 0, 0, 0, 1, 0, 0],\n",
       "       [0, 0, 0, 0, 0, 0, 0, 0, 0, 0, 0]])"
      ]
     },
     "execution_count": 65,
     "metadata": {},
     "output_type": "execute_result"
    }
   ],
   "source": [
    "matriz_sem_objetivos = matriz.copy()\n",
    "matriz_sem_objetivos[matriz_sem_objetivos == 3] = 0\n",
    "matriz_sem_objetivos"
   ]
  },
  {
   "cell_type": "code",
   "execution_count": 66,
   "metadata": {},
   "outputs": [
    {
     "data": {
      "text/plain": [
       "[(0, 2),\n",
       " (0, 7),\n",
       " (1, 2),\n",
       " (1, 9),\n",
       " (2, 8),\n",
       " (3, 2),\n",
       " (5, 5),\n",
       " (9, 2),\n",
       " (9, 4),\n",
       " (10, 3)]"
      ]
     },
     "execution_count": 66,
     "metadata": {},
     "output_type": "execute_result"
    }
   ],
   "source": [
    "objetivos = [(linha, coluna) for linha in range(11) for coluna in range(11) if matriz[linha][coluna] == 3]\n",
    "objetivos"
   ]
  },
  {
   "cell_type": "code",
   "execution_count": 71,
   "metadata": {},
   "outputs": [
    {
     "name": "stdout",
     "output_type": "stream",
     "text": [
      "[(0, 5), (0, 2), (0, 7), (1, 2), (1, 9), (2, 8), (3, 2), (5, 5), (9, 2), (9, 4)]\n"
     ]
    }
   ],
   "source": [
    "# Pontos de Partida e Pontos de chegada\n",
    "\n",
    "pontos_partida = [(0,5)] + objetivos[:-1]\n",
    "pontos_chegada = objetivos \n",
    "print(pontos_partida)"
   ]
  },
  {
   "cell_type": "code",
   "execution_count": 72,
   "metadata": {},
   "outputs": [
    {
     "name": "stdout",
     "output_type": "stream",
     "text": [
      "[(0, 5), (0, 4), (0, 3), (0, 2)]\n",
      "[(0, 2), (0, 3), (0, 4), (0, 5), (1, 6), (0, 7)]\n",
      "[(0, 7), (1, 6), (0, 5), (0, 4), (0, 3), (1, 2)]\n",
      "[(1, 2), (0, 3), (0, 4), (0, 5), (1, 6), (0, 7), (0, 8), (1, 9)]\n",
      "[(1, 9), (2, 8)]\n",
      "[(2, 8), (2, 7), (1, 6), (0, 5), (1, 4), (2, 3), (3, 2)]\n",
      "[(3, 2), (4, 3), (4, 4), (5, 5)]\n",
      "[(5, 5), (6, 4), (7, 3), (8, 2), (9, 2)]\n",
      "[(9, 2), (8, 3), (9, 4)]\n",
      "[(9, 4), (10, 3)]\n"
     ]
    }
   ],
   "source": [
    "for i in range(len(pontos_partida)):\n",
    "    inicio = pontos_partida[i]\n",
    "    dest = pontos_chegada[i]\n",
    "    path = a_star(matriz_sem_objetivos, inicio, dest)\n",
    "    print(path)\n"
   ]
  },
  {
   "cell_type": "code",
   "execution_count": null,
   "metadata": {},
   "outputs": [],
   "source": [
    "def exibir_labirinto_com_caminho(problema):\n",
    "\n",
    "    #executa o algoritmo A* para encontrar o melhor caminho\n",
    "    caminho = a_star(problema)\n",
    "\n",
    "    #converte o mapa para um array numpy para plotagem\n",
    "    mapa_array = np.array(problema.mapa)\n",
    "    n_linhas, n_colunas = mapa_array.shape\n",
    "\n",
    "    plt.xticks(np.arange(-0.5, n_colunas, 1), [])\n",
    "    plt.yticks(np.arange(-0.5, n_linhas, 1), [])\n",
    "    plt.grid(color='black', linestyle='-', linewidth=2)\n",
    "\n",
    "    plt.imshow(mapa_array, cmap='binary')\n",
    "\n",
    "    #caminho percorrido pelo algoritmo A*\n",
    "    if caminho:\n",
    "        caminho_array = np.array(caminho)\n",
    "        plt.plot(caminho_array[:, 1], caminho_array[:, 0], color='red', linewidth=3)\n",
    "\n",
    "    #posição inicial (círculo verde)\n",
    "    plt.scatter(problema.inicio[1], problema.inicio[0], color='green', s=100, marker='o', zorder=5)\n",
    "\n",
    "    #destino final (círculo vermelho)\n",
    "    plt.scatter(problema.fim[1], problema.fim[0], color='red', s=100, marker='o', zorder=5)\n",
    "\n",
    "    plt.title('Mapa com Caminho A*')\n",
    "    plt.show()"
   ]
  },
  {
   "cell_type": "code",
   "execution_count": 86,
   "metadata": {},
   "outputs": [],
   "source": [
    "import matplotlib.pyplot as plt\n",
    "import numpy as np\n",
    "\n",
    "def exibir_labirinto_com_caminho(mapa, caminho, inicio, fim, cor_caminho='red'):\n",
    "    # Converte o mapa para um array numpy para plotagem\n",
    "\n",
    "    n_linhas, n_colunas = mapa.shape\n",
    "\n",
    "\n",
    "    plt.xticks(np.arange(-0.5, n_colunas, 1), [])\n",
    "    plt.yticks(np.arange(-0.5, n_linhas, 1), [])\n",
    "    plt.grid(color='black', linestyle='-', linewidth=2)\n",
    "\n",
    "    plt.imshow(mapa, cmap='binary')\n",
    "\n",
    "    # Caminho percorrido pelo algoritmo A*\n",
    "    if caminho:\n",
    "        caminho_array = np.array(caminho)\n",
    "        plt.plot(caminho_array[:, 1], caminho_array[:, 0], color=cor_caminho, linewidth=3)\n",
    "\n",
    "    # Posição inicial (círculo verde)\n",
    "    plt.scatter(inicio[1], inicio[0], color='green', s=100, marker='o', zorder=5, label='Ponto de Partida')\n",
    "\n",
    "    # Destino final (círculo vermelho)\n",
    "    plt.scatter(fim[1], fim[0], color='red', s=100, marker='o', zorder=5, label='Ponto de Chegada')\n",
    "\n",
    "    plt.legend()\n",
    "    plt.title('Mapa com Caminho A*')\n",
    "    plt.show()\n"
   ]
  },
  {
   "cell_type": "code",
   "execution_count": 90,
   "metadata": {},
   "outputs": [
    {
     "data": {
      "image/png": "[encoded data removed]",
      "text/plain": [
       "<Figure size 432x288 with 1 Axes>"
      ]
     },
     "metadata": {
      "needs_background": "light"
     },
     "output_type": "display_data"
    }
   ],
   "source": [
    "inicio = pontos_partida[0]\n",
    "dest = pontos_chegada[0]\n",
    "path = a_star(matriz_sem_objetivos, inicio, dest)\n",
    "exibir_labirinto_com_caminho(matriz, path, inicio, dest)"
   ]
  }
 ],
 "metadata": {
  "kernelspec": {
   "display_name": "base",
   "language": "python",
   "name": "python3"
  },
  "language_info": {
   "codemirror_mode": {
    "name": "ipython",
    "version": 3
   },
   "file_extension": ".py",
   "mimetype": "text/x-python",
   "name": "python",
   "nbconvert_exporter": "python",
   "pygments_lexer": "ipython3",
   "version": "3.9.12"
  }
 },
 "nbformat": 4,
 "nbformat_minor": 2
}
