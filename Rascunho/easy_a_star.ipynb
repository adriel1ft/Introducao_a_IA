{
 "cells": [
  {
   "cell_type": "markdown",
   "metadata": {},
   "source": [
    "1. Add\n",
    "\n",
    "2. Repeat the following\n",
    "\n"
   ]
  },
  {
   "cell_type": "code",
   "execution_count": 8,
   "metadata": {},
   "outputs": [
    {
     "name": "stderr",
     "output_type": "stream",
     "text": [
      "c:\\Users\\dorie\\anaconda3\\lib\\site-packages\\scipy\\__init__.py:146: UserWarning: A NumPy version >=1.16.5 and <1.23.0 is required for this version of SciPy (detected version 1.26.4\n",
      "  warnings.warn(f\"A NumPy version >={np_minversion} and <{np_maxversion}\"\n"
     ]
    }
   ],
   "source": [
    "import numpy as np\n",
    "from queue import PriorityQueue\n",
    "from pyamaze import maze, agent\n",
    "from scipy.spatial import distance\n",
    "import networkx as nx "
   ]
  },
  {
   "cell_type": "code",
   "execution_count": 9,
   "metadata": {},
   "outputs": [],
   "source": [
    "class Node:\n",
    "    def __init__(self, coordinate,g=0,h=0,f=0, parent=None):\n",
    "        self.linha, self.coluna = coordinate\n",
    "        self.parent = parent\n",
    "        self.g = g\n",
    "        self.h = h\n",
    "        self.f = f\n",
    "\n",
    "    def __lt__(self, other):\n",
    "        return self.f < other.f\n",
    "\n",
    "    def __eq__(self, other):\n",
    "        return self.x == other.x and self.y == other.y"
   ]
  },
  {
   "cell_type": "code",
   "execution_count": 10,
   "metadata": {},
   "outputs": [],
   "source": [
    "def h_score(celula_atual, destino):\n",
    "    linha_atual, coluna_atual = celula_atual\n",
    "\n",
    "    linha_destino, coluna_destino = destino\n",
    "\n",
    "    #manual\n",
    "    dist = np.sqrt((linha_destino - linha_atual)**2 + (coluna_destino - coluna_atual)**2)\n",
    "    #funcao pronta\n",
    "    dist = distance.euclidean(celula_atual, destino)\n",
    "\n",
    "    return dist.round()"
   ]
  },
  {
   "cell_type": "code",
   "execution_count": 11,
   "metadata": {},
   "outputs": [],
   "source": [
    "def aestrela (labirinto):\n",
    "    pass"
   ]
  },
  {
   "cell_type": "code",
   "execution_count": 40,
   "metadata": {},
   "outputs": [],
   "source": [
    "def obter_vizinhos(matriz,coord):\n",
    "\n",
    "    if matriz[coord] == 1:\n",
    "        print(\"Coordenada inválida\")\n",
    "        return []\n",
    "    \n",
    "    else:\n",
    "        \n",
    "        linha, coluna = coord\n",
    "        linhas, colunas = matriz.shape\n",
    "        vizinhos = []\n",
    "\n",
    "        direcoes = [(0,1),(0,-1),(1,0),(-1,0), # cima, baixo, direita, esquerda\n",
    "                    (1,1),(1,-1),(-1,1),(-1,-1)] # diagonais\n",
    "        \n",
    "        for dc in direcoes:\n",
    "            nova_linha, nova_coluna = linha + dc[0], coluna + dc[1]\n",
    "\n",
    "            if nova_linha >= 0 and nova_linha < linhas and nova_coluna >= 0 and nova_coluna < colunas:\n",
    "                if matriz[nova_linha,nova_coluna] == 0: #se for uma coordenada sem obstáculos\n",
    "                    vizinhos.append((nova_linha,nova_coluna))\n",
    "        \n",
    "    return vizinhos\n"
   ]
  },
  {
   "cell_type": "code",
   "execution_count": 42,
   "metadata": {},
   "outputs": [],
   "source": [
    "def add_obstacles(matriz, num_obstacles=0):\n",
    "    linhas, colunas = matriz.shape\n",
    "    obstaculos_added = 0\n",
    "\n",
    "    np.random.seed(99)\n",
    "    while obstaculos_added < num_obstacles:\n",
    "        x = np.random.randint(0,linhas)\n",
    "        y = np.random.randint(0,colunas)\n",
    "\n",
    "        if matriz[x,y] == 0:\n",
    "            matriz[x,y] = 1\n",
    "            obstaculos_added += 1\n",
    "    \n",
    "    return matriz"
   ]
  },
  {
   "cell_type": "code",
   "execution_count": 41,
   "metadata": {},
   "outputs": [],
   "source": [
    "def inicializar_matriz():\n",
    "    return np.zeros((11,11),dtype=int)\n",
    "\n"
   ]
  },
  {
   "cell_type": "code",
   "execution_count": 43,
   "metadata": {},
   "outputs": [
    {
     "data": {
      "text/plain": [
       "(11, 11)"
      ]
     },
     "execution_count": 43,
     "metadata": {},
     "output_type": "execute_result"
    }
   ],
   "source": [
    "matriz = inicializar_matriz()\n",
    "matriz.shape"
   ]
  },
  {
   "cell_type": "code",
   "execution_count": 44,
   "metadata": {},
   "outputs": [
    {
     "name": "stdout",
     "output_type": "stream",
     "text": [
      "[(1, 2), (1, 0), (2, 1), (0, 1), (2, 2), (2, 0), (0, 2), (0, 0)]\n"
     ]
    }
   ],
   "source": [
    "coord_teste_1 = (1,1)\n",
    "vizinhos = obter_vizinhos(matriz,coord_teste_1)\n",
    "print(vizinhos)"
   ]
  },
  {
   "cell_type": "code",
   "execution_count": 45,
   "metadata": {},
   "outputs": [],
   "source": [
    "matriz_com_obstaculos = add_obstacles(matriz, 10)"
   ]
  },
  {
   "cell_type": "code",
   "execution_count": 46,
   "metadata": {},
   "outputs": [
    {
     "data": {
      "text/plain": [
       "array([[0, 0, 0, 0, 0, 0, 1, 0, 0, 0, 0],\n",
       "       [0, 1, 0, 1, 0, 0, 0, 1, 0, 0, 0],\n",
       "       [1, 0, 0, 0, 1, 0, 0, 0, 0, 0, 0],\n",
       "       [0, 0, 0, 0, 0, 0, 0, 1, 0, 0, 0],\n",
       "       [0, 0, 0, 0, 0, 0, 0, 1, 0, 0, 0],\n",
       "       [0, 0, 0, 0, 1, 0, 0, 0, 0, 0, 0],\n",
       "       [0, 0, 0, 0, 0, 0, 0, 0, 0, 0, 0],\n",
       "       [0, 0, 0, 0, 0, 0, 0, 0, 0, 0, 0],\n",
       "       [0, 0, 0, 0, 0, 0, 0, 0, 0, 0, 0],\n",
       "       [0, 0, 0, 0, 0, 0, 0, 0, 1, 0, 0],\n",
       "       [0, 0, 0, 0, 0, 0, 0, 0, 0, 0, 0]])"
      ]
     },
     "execution_count": 46,
     "metadata": {},
     "output_type": "execute_result"
    }
   ],
   "source": [
    "matriz_com_obstaculos"
   ]
  },
  {
   "cell_type": "code",
   "execution_count": 49,
   "metadata": {},
   "outputs": [
    {
     "data": {
      "text/plain": [
       "[(0, 2), (0, 0), (1, 2), (1, 0)]"
      ]
     },
     "execution_count": 49,
     "metadata": {},
     "output_type": "execute_result"
    }
   ],
   "source": [
    "coord_teste_2 = (0,1)\n",
    "obter_vizinhos(matriz_com_obstaculos,coord_teste_2)"
   ]
  },
  {
   "cell_type": "code",
   "execution_count": 61,
   "metadata": {},
   "outputs": [
    {
     "data": {
      "image/png": "[encoded data removed]",
      "text/plain": [
       "<Figure size 432x288 with 1 Axes>"
      ]
     },
     "metadata": {
      "needs_background": "light"
     },
     "output_type": "display_data"
    }
   ],
   "source": [
    "import numpy as np\n",
    "import matplotlib.pyplot as plt\n",
    "\n",
    "def exibir_labirinto_com_obstaculos_e_objetivos(mapa_com_obstaculos_e_objetivos):\n",
    "    # Converte o mapa para um array numpy para plotagem\n",
    "    mapa_array = np.array(mapa_com_obstaculos_e_objetivos)\n",
    "    n_linhas, n_colunas = mapa_array.shape\n",
    "\n",
    "    plt.xticks(np.arange(-0.5, n_colunas, 1), [])\n",
    "    plt.yticks(np.arange(-0.5, n_linhas, 1), [])\n",
    "    plt.grid(color='black', linestyle='-', linewidth=2)\n",
    "\n",
    "    plt.imshow(mapa_array, cmap='binary')\n",
    "\n",
    "    # Posição dos obstáculos (células com valor 1)\n",
    "    obstaculos_x, obstaculos_y = np.where(mapa_array == 1)\n",
    "    plt.scatter(obstaculos_y, obstaculos_x, color='gray', s=100, marker='s', zorder=5)\n",
    "\n",
    "    # Posição dos objetivos (células com valor 3)\n",
    "    objetivos_x, objetivos_y = np.where(mapa_array == 3)\n",
    "    plt.scatter(objetivos_y, objetivos_x, color='red', s=100, marker='o', zorder=5)\n",
    "\n",
    "    plt.title('Mapa com Obstáculos e Objetivos')\n",
    "    plt.show()\n",
    "\n",
    "# Exemplo de uso\n",
    "mapa_com_obstaculos_e_objetivos = [\n",
    "    [0, 0, 0, 0, 0, 0, 0, 0, 0, 0, 0],\n",
    "    [0, 1, 1, 0, 1, 1, 1, 0, 0, 0, 0],\n",
    "    [0, 0, 0, 0, 1, 0, 1, 0, 0, 0, 0],\n",
    "    [0, 0, 0, 0, 1, 3, 0, 0, 1, 0, 0],\n",
    "    [0, 1, 0, 0, 0, 0, 1, 0, 3, 0, 0],\n",
    "    [0, 0, 0, 0, 1, 0, 0, 0, 0, 0, 0],\n",
    "    [0, 0, 0, 0, 1, 0, 0, 1, 0, 0, 0],\n",
    "    [0, 1, 0, 0, 0, 0, 0, 0, 0, 0, 0],\n",
    "    [0, 0, 3, 0, 0, 0, 0, 0, 0, 0, 0],\n",
    "    [0, 0, 0, 1, 0, 0, 0, 0, 0, 0, 0],\n",
    "    [0, 0, 0, 0, 0, 0, 0, 0, 0, 1, 0],\n",
    "]\n",
    "\n",
    "# Adicionar pontos objetivos (valor 3) em posições específicas\n",
    "#mapa_com_obstaculos_e_objetivos[4][5] = 3  # Exemplo de ponto objetivo\n",
    "#mapa_com_obstaculos_e_objetivos[6][8] = 3  # Outro exemplo de ponto objetivo\n",
    "\n",
    "exibir_labirinto_com_obstaculos_e_objetivos(mapa_com_obstaculos_e_objetivos)\n"
   ]
  }
 ],
 "metadata": {
  "kernelspec": {
   "display_name": "base",
   "language": "python",
   "name": "python3"
  },
  "language_info": {
   "codemirror_mode": {
    "name": "ipython",
    "version": 3
   },
   "file_extension": ".py",
   "mimetype": "text/x-python",
   "name": "python",
   "nbconvert_exporter": "python",
   "pygments_lexer": "ipython3",
   "version": "3.9.12"
  }
 },
 "nbformat": 4,
 "nbformat_minor": 2
}
